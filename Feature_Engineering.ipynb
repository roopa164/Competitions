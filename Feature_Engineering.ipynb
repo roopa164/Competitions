{
 "cells": [
  {
   "cell_type": "code",
   "execution_count": 1,
   "metadata": {},
   "outputs": [],
   "source": [
    "import pandas as pd\n",
    "import numpy as np\n",
    "import seaborn as sns\n",
    "import datetime as dt\n",
    "\n",
    "\n",
    "import matplotlib.pyplot as plt\n",
    "%matplotlib inline\n",
    "\n",
    "import warnings\n",
    "warnings.filterwarnings(\"ignore\")"
   ]
  },
  {
   "cell_type": "code",
   "execution_count": 2,
   "metadata": {},
   "outputs": [],
   "source": [
    "train = pd.read_csv('../01_Data/train.csv', parse_dates = ['booking_date','checkin_date','checkout_date'])\n",
    "test = pd.read_csv('../01_Data/test.csv', parse_dates = ['booking_date','checkin_date','checkout_date'])"
   ]
  },
  {
   "cell_type": "code",
   "execution_count": 3,
   "metadata": {},
   "outputs": [],
   "source": [
    "def date_cleaning(df):\n",
    "    format_str = '%d/%m/%Y' # The format\n",
    "    df['booking_date'] = df['booking_date'].apply(lambda x: dt.datetime.strftime(x, format_str))\n",
    "    df['checkin_date'] = df['checkin_date'].apply(lambda x: dt.datetime.strftime(x, format_str))\n",
    "    df['checkout_date'] = df['checkout_date'].apply(lambda x: dt.datetime.strftime(x, format_str))\n",
    "    df['booking_date'] = pd.to_datetime(df['booking_date'])\n",
    "    df['checkin_date'] = pd.to_datetime(df['checkin_date'])\n",
    "    df['checkout_date'] = pd.to_datetime(df['checkout_date'])    \n",
    "    df['D_checkin_month'] =  df.checkin_date.dt.month\n",
    "    df['D_checkin_year'] =  df.checkin_date.dt.year\n",
    "    df['D_checkin_week'] =  df.checkin_date.dt.week\n",
    "    df['D_checkin_weekday'] =  df.checkin_date.dt.weekday\n",
    "    df['D_booking_month'] =  df.booking_date.dt.month\n",
    "    df['D_booking_year'] =  df.booking_date.dt.year\n",
    "    df['D_booking_week'] =  df.booking_date.dt.week\n",
    "    df['D_booking_weekday'] =  df.booking_date.dt.weekday\n",
    "    df['checkin_date'] = np.where(df.D_checkin_year < 2015, df['checkin_date'] + pd.DateOffset(years=6), df['checkin_date'])\n",
    "    df['checkout_date'] = np.where(df.D_checkin_year < 2015, df['checkout_date'] + pd.DateOffset(years=6), df['checkout_date'])\n",
    "    df['D_checkin_year'] =  df.checkin_date.dt.year\n",
    "    df['D_no_days_prior_Advanced'] =  (df.checkin_date - df.booking_date).dt.days\n",
    "    df['D_no_days_stay'] =  (df.checkout_date - df.checkin_date).dt.days\n",
    "    \n",
    "    return df"
   ]
  },
  {
   "cell_type": "code",
   "execution_count": 4,
   "metadata": {},
   "outputs": [],
   "source": [
    "train = date_cleaning(train)\n",
    "test = date_cleaning(test)"
   ]
  },
  {
   "cell_type": "code",
   "execution_count": 5,
   "metadata": {},
   "outputs": [
    {
     "data": {
      "text/html": [
       "<div>\n",
       "<style scoped>\n",
       "    .dataframe tbody tr th:only-of-type {\n",
       "        vertical-align: middle;\n",
       "    }\n",
       "\n",
       "    .dataframe tbody tr th {\n",
       "        vertical-align: top;\n",
       "    }\n",
       "\n",
       "    .dataframe thead th {\n",
       "        text-align: right;\n",
       "    }\n",
       "</style>\n",
       "<table border=\"1\" class=\"dataframe\">\n",
       "  <thead>\n",
       "    <tr style=\"text-align: right;\">\n",
       "      <th></th>\n",
       "      <th>memberid</th>\n",
       "      <th>tag</th>\n",
       "      <th>val_tag</th>\n",
       "    </tr>\n",
       "  </thead>\n",
       "  <tbody>\n",
       "    <tr>\n",
       "      <th>0</th>\n",
       "      <td>3d1539e56495b6991f0a3ef5a61ca3d03ce4fff7380e9a...</td>\n",
       "      <td>Val</td>\n",
       "      <td>5</td>\n",
       "    </tr>\n",
       "    <tr>\n",
       "      <th>1</th>\n",
       "      <td>7b68caeb153ac83aeab0b9a679709c558d57a6c9d2bdf6...</td>\n",
       "      <td>Train</td>\n",
       "      <td>3</td>\n",
       "    </tr>\n",
       "    <tr>\n",
       "      <th>2</th>\n",
       "      <td>0fb5e9e87638ac401e88ea0115114182614151218a0147...</td>\n",
       "      <td>Train</td>\n",
       "      <td>4</td>\n",
       "    </tr>\n",
       "    <tr>\n",
       "      <th>3</th>\n",
       "      <td>383d253fc6056a0da3fdc32703b4816869f6a3bf8d14ae...</td>\n",
       "      <td>Train</td>\n",
       "      <td>3</td>\n",
       "    </tr>\n",
       "    <tr>\n",
       "      <th>4</th>\n",
       "      <td>d4eee99d5c3238cdda52479fb34125e15208d394af34e7...</td>\n",
       "      <td>Train</td>\n",
       "      <td>2</td>\n",
       "    </tr>\n",
       "  </tbody>\n",
       "</table>\n",
       "</div>"
      ],
      "text/plain": [
       "                                            memberid    tag  val_tag\n",
       "0  3d1539e56495b6991f0a3ef5a61ca3d03ce4fff7380e9a...    Val        5\n",
       "1  7b68caeb153ac83aeab0b9a679709c558d57a6c9d2bdf6...  Train        3\n",
       "2  0fb5e9e87638ac401e88ea0115114182614151218a0147...  Train        4\n",
       "3  383d253fc6056a0da3fdc32703b4816869f6a3bf8d14ae...  Train        3\n",
       "4  d4eee99d5c3238cdda52479fb34125e15208d394af34e7...  Train        2"
      ]
     },
     "execution_count": 5,
     "metadata": {},
     "output_type": "execute_result"
    }
   ],
   "source": [
    "member_id_info = pd.DataFrame()\n",
    "member_id_info['memberid'] = train.memberid.unique()\n",
    "member_id_info['tag'] = np.random.rand(member_id_info.shape[0])\n",
    "member_id_info['val_tag'] = np.random.randint(1,6,member_id_info.shape[0])\n",
    "member_id_info['tag'] = np.where(member_id_info.tag>0.2,\"Train\",\"Val\")\n",
    "member_id_info.head()"
   ]
  },
  {
   "cell_type": "code",
   "execution_count": 6,
   "metadata": {},
   "outputs": [
    {
     "data": {
      "text/plain": [
       "1    0.201430\n",
       "2    0.201203\n",
       "4    0.200176\n",
       "5    0.199891\n",
       "3    0.197300\n",
       "Name: val_tag, dtype: float64"
      ]
     },
     "execution_count": 6,
     "metadata": {},
     "output_type": "execute_result"
    }
   ],
   "source": [
    "train = pd.merge(train, member_id_info, on= ['memberid'], how = \"left\")\n",
    "train[train.tag == \"Train\"].val_tag.value_counts(normalize = True)"
   ]
  },
  {
   "cell_type": "code",
   "execution_count": 7,
   "metadata": {},
   "outputs": [],
   "source": [
    "test['tag'] = ['Test']*test.shape[0]\n",
    "test['val_tag'] = [0]*test.shape[0]\n",
    "test['amount_spent_per_room_night_scaled'] = [0]*test.shape[0]"
   ]
  },
  {
   "cell_type": "code",
   "execution_count": 8,
   "metadata": {},
   "outputs": [],
   "source": [
    "train_test = pd.concat([train,test], axis=0)"
   ]
  },
  {
   "cell_type": "code",
   "execution_count": 9,
   "metadata": {},
   "outputs": [],
   "source": [
    "def booking_info(df):\n",
    "    df['checkin_year_week'] = df['D_checkin_year'].map(str) + df['D_checkin_week'].map(str)\n",
    "    df['booking_year_week'] = df['D_booking_year'].map(str) + df['D_booking_week'].map(str)\n",
    "    \n",
    "    \n",
    "    multiple_res_same_day = df.groupby(['memberid','checkin_date'])['amount_spent_per_room_night_scaled'].count().reset_index()\n",
    "    multiple_res_same_day.rename(columns= {\"amount_spent_per_room_night_scaled\":\"D_res_cnt_same_day\"}, inplace = True)\n",
    "    df = pd.merge(df,multiple_res_same_day, on = ['memberid','checkin_date'], how = \"left\")\n",
    "    \n",
    "    multiple_book_same_day = df.groupby(['memberid','booking_date'])['amount_spent_per_room_night_scaled'].count().reset_index()\n",
    "    multiple_book_same_day.rename(columns= {\"amount_spent_per_room_night_scaled\":\"D_book_cnt_same_day\"}, inplace = True)\n",
    "    df = pd.merge(df,multiple_book_same_day, on = ['memberid','booking_date'], how = \"left\")\n",
    "    \n",
    "    multiple_res_same_week = df.groupby(['memberid','checkin_year_week'])['amount_spent_per_room_night_scaled'].count().reset_index()\n",
    "    multiple_res_same_week.rename(columns= {\"amount_spent_per_room_night_scaled\":\"D_res_cnt_same_week\"}, inplace = True)\n",
    "    df = pd.merge(df,multiple_res_same_week, on = ['memberid','checkin_year_week'], how = \"left\")\n",
    "    \n",
    "    multiple_book_same_week = df.groupby(['memberid','booking_year_week'])['amount_spent_per_room_night_scaled'].count().reset_index()\n",
    "    multiple_book_same_week.rename(columns= {\"amount_spent_per_room_night_scaled\":\"D_book_cnt_same_week\"}, inplace = True)\n",
    "    df = pd.merge(df,multiple_book_same_week, on = ['memberid','booking_year_week'], how = \"left\")\n",
    "    \n",
    "    multiple_res = df.groupby(['memberid'])['amount_spent_per_room_night_scaled'].count().reset_index()\n",
    "    multiple_res.rename(columns= {\"amount_spent_per_room_night_scaled\":\"D_res_cnt\"}, inplace = True)\n",
    "    df = pd.merge(df,multiple_res, on = ['memberid'], how = \"left\")\n",
    "    \n",
    "    df.drop(['checkin_year_week','booking_year_week'], axis=1, inplace = True)\n",
    "    return df\n",
    "     "
   ]
  },
  {
   "cell_type": "code",
   "execution_count": 10,
   "metadata": {},
   "outputs": [],
   "source": [
    "train_test = booking_info(train_test)"
   ]
  },
  {
   "cell_type": "code",
   "execution_count": 11,
   "metadata": {},
   "outputs": [],
   "source": [
    "train_test.to_csv('../03_Feature_Engineering/v10.csv', index = False)"
   ]
  }
 ],
 "metadata": {
  "kernelspec": {
   "display_name": "Python 3",
   "language": "python",
   "name": "python3"
  },
  "language_info": {
   "codemirror_mode": {
    "name": "ipython",
    "version": 3
   },
   "file_extension": ".py",
   "mimetype": "text/x-python",
   "name": "python",
   "nbconvert_exporter": "python",
   "pygments_lexer": "ipython3",
   "version": "3.6.4"
  }
 },
 "nbformat": 4,
 "nbformat_minor": 2
}
